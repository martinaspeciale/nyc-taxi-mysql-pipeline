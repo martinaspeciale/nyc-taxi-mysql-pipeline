{
 "cells": [
  {
   "cell_type": "markdown",
   "id": "e04e834c",
   "metadata": {},
   "source": [
    "# Exploratory Data Analysis (EDA) — NYC Yellow Taxi 2024\n",
    "\n",
    "## Introduction\n",
    "\n",
    "In this section, we will perform an exploratory data analysis (EDA) on the full 12-month NYC Yellow Taxi Trip dataset, now fully loaded into MySQL (~41M records). The goal is to extract key insights and trends from the data, including:\n",
    "\n",
    "- Total trips per month\n",
    "- Average fare and tip analysis\n",
    "- Payment type trends\n",
    "\n",
    "## Why we are creating indexes\n",
    "\n",
    "Since the dataset is large (~41 million rows), performing aggregation queries directly on the raw table can be very slow. To optimize query performance for our EDA, we will create indexes on the columns that are most frequently used in `GROUP BY`, `WHERE`, and `ORDER BY` clauses:\n",
    "\n",
    "- `pu_location_id` → used for geospatial and pickup analysis\n",
    "- `do_location_id` → used for dropoff analysis\n",
    "- `tpep_pickup_datetime` → used to group trips by month and time\n",
    "\n",
    "Creating these indexes will significantly improve the speed of our queries and make the analysis more efficient and interactive.\n",
    "\n",
    "**Note:** The index creation step is safe to run multiple times — if an index already exists, MySQL will report it and skip re-creating it.\n"
   ]
  },
  {
   "cell_type": "code",
   "execution_count": null,
   "id": "0e2b0db3",
   "metadata": {},
   "outputs": [
    {
     "name": "stdout",
     "output_type": "stream",
     "text": [
      "Creating index: CREATE INDEX idx_pu_location_id ON yellow_taxi_trips(pu_location_id);\n"
     ]
    }
   ],
   "source": [
    "# Create indexes to optimize EDA queries\n",
    "\n",
    "import mysql.connector\n",
    "from dotenv import load_dotenv\n",
    "import os\n",
    "\n",
    "# Load env variables\n",
    "load_dotenv()\n",
    "\n",
    "# MySQL connection config\n",
    "MYSQL_CONFIG = {\n",
    "    'user': os.getenv('MYSQL_USER'),\n",
    "    'password': os.getenv('MYSQL_PASSWORD'),\n",
    "    'host': os.getenv('MYSQL_HOST'),\n",
    "    'database': os.getenv('MYSQL_DATABASE'),\n",
    "    'port': int(os.getenv('MYSQL_PORT'))\n",
    "}\n",
    "\n",
    "# Connect to MySQL\n",
    "cnx = mysql.connector.connect(**MYSQL_CONFIG)\n",
    "cursor = cnx.cursor()\n",
    "\n",
    "# List of index creation statements\n",
    "index_statements = [\n",
    "    \"CREATE INDEX idx_pu_location_id ON yellow_taxi_trips(pu_location_id);\",\n",
    "    \"CREATE INDEX idx_do_location_id ON yellow_taxi_trips(do_location_id);\",\n",
    "    \"CREATE INDEX idx_tpep_pickup_datetime ON yellow_taxi_trips(tpep_pickup_datetime);\"\n",
    "]\n",
    "\n",
    "# Execute index creation\n",
    "for stmt in index_statements:\n",
    "    try:\n",
    "        print(f\"Creating index: {stmt}\")\n",
    "        cursor.execute(stmt)\n",
    "        cnx.commit()\n",
    "        print(\"✅ Index created.\")\n",
    "    except mysql.connector.Error as err:\n",
    "        # If index already exists, MySQL will throw an error → we catch it\n",
    "        print(f\"⚠️  Could not create index: {err.msg}\")\n",
    "\n",
    "# Close connection\n",
    "cursor.close()\n",
    "cnx.close()\n"
   ]
  }
 ],
 "metadata": {
  "kernelspec": {
   "display_name": "venv",
   "language": "python",
   "name": "python3"
  },
  "language_info": {
   "codemirror_mode": {
    "name": "ipython",
    "version": 3
   },
   "file_extension": ".py",
   "mimetype": "text/x-python",
   "name": "python",
   "nbconvert_exporter": "python",
   "pygments_lexer": "ipython3",
   "version": "3.12.7"
  }
 },
 "nbformat": 4,
 "nbformat_minor": 5
}
